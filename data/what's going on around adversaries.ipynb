{
 "cells": [
  {
   "cell_type": "code",
   "execution_count": 12,
   "metadata": {
    "collapsed": true
   },
   "outputs": [],
   "source": [
    "import numpy as np\n",
    "import tensorflow as tf\n",
    "import random\n",
    "import pickle\n",
    "import matplotlib.pyplot as plt\n",
    "from d_u import load_CIFAR10\n",
    "import structures\n",
    "from amirata_functions import *\n",
    "from pylab import rcParams\n",
    "from tqdm import tqdm_notebook as tqdm\n",
    "from CNN_class import CNN_SC\n",
    "import scipy\n",
    "import scipy.stats as stats\n",
    "config_gpu = tf.ConfigProto()\n",
    "config_gpu.gpu_options.allow_growth = True"
   ]
  },
  {
   "cell_type": "code",
   "execution_count": 15,
   "metadata": {},
   "outputs": [
    {
     "ename": "ResourceExhaustedError",
     "evalue": "OOM when allocating tensor of shape [1000,1000] and type double\n\t [[Node: Sqrt_3/_0__cf__3 = Const[dtype=DT_DOUBLE, value=Tensor<type: double shape: [1000,1000] values: [4447.30828704285 3650.7322553153635 5797.0512331701866]...>, _device=\"/job:localhost/replica:0/task:0/gpu:0\"]()]]",
     "output_type": "error",
     "traceback": [
      "\u001b[0;31m---------------------------------------------------------------------------\u001b[0m",
      "\u001b[0;31mResourceExhaustedError\u001b[0m                    Traceback (most recent call last)",
      "\u001b[0;32m~/.env/lib/python3.5/site-packages/tensorflow/python/client/session.py\u001b[0m in \u001b[0;36m_do_call\u001b[0;34m(self, fn, *args)\u001b[0m\n\u001b[1;32m   1138\u001b[0m     \u001b[0;32mtry\u001b[0m\u001b[0;34m:\u001b[0m\u001b[0;34m\u001b[0m\u001b[0m\n\u001b[0;32m-> 1139\u001b[0;31m       \u001b[0;32mreturn\u001b[0m \u001b[0mfn\u001b[0m\u001b[0;34m(\u001b[0m\u001b[0;34m*\u001b[0m\u001b[0margs\u001b[0m\u001b[0;34m)\u001b[0m\u001b[0;34m\u001b[0m\u001b[0m\n\u001b[0m\u001b[1;32m   1140\u001b[0m     \u001b[0;32mexcept\u001b[0m \u001b[0merrors\u001b[0m\u001b[0;34m.\u001b[0m\u001b[0mOpError\u001b[0m \u001b[0;32mas\u001b[0m \u001b[0me\u001b[0m\u001b[0;34m:\u001b[0m\u001b[0;34m\u001b[0m\u001b[0m\n",
      "\u001b[0;32m~/.env/lib/python3.5/site-packages/tensorflow/python/client/session.py\u001b[0m in \u001b[0;36m_run_fn\u001b[0;34m(session, feed_dict, fetch_list, target_list, options, run_metadata)\u001b[0m\n\u001b[1;32m   1120\u001b[0m                                  \u001b[0mfeed_dict\u001b[0m\u001b[0;34m,\u001b[0m \u001b[0mfetch_list\u001b[0m\u001b[0;34m,\u001b[0m \u001b[0mtarget_list\u001b[0m\u001b[0;34m,\u001b[0m\u001b[0;34m\u001b[0m\u001b[0m\n\u001b[0;32m-> 1121\u001b[0;31m                                  status, run_metadata)\n\u001b[0m\u001b[1;32m   1122\u001b[0m \u001b[0;34m\u001b[0m\u001b[0m\n",
      "\u001b[0;32m/usr/lib/python3.5/contextlib.py\u001b[0m in \u001b[0;36m__exit__\u001b[0;34m(self, type, value, traceback)\u001b[0m\n\u001b[1;32m     65\u001b[0m             \u001b[0;32mtry\u001b[0m\u001b[0;34m:\u001b[0m\u001b[0;34m\u001b[0m\u001b[0m\n\u001b[0;32m---> 66\u001b[0;31m                 \u001b[0mnext\u001b[0m\u001b[0;34m(\u001b[0m\u001b[0mself\u001b[0m\u001b[0;34m.\u001b[0m\u001b[0mgen\u001b[0m\u001b[0;34m)\u001b[0m\u001b[0;34m\u001b[0m\u001b[0m\n\u001b[0m\u001b[1;32m     67\u001b[0m             \u001b[0;32mexcept\u001b[0m \u001b[0mStopIteration\u001b[0m\u001b[0;34m:\u001b[0m\u001b[0;34m\u001b[0m\u001b[0m\n",
      "\u001b[0;32m~/.env/lib/python3.5/site-packages/tensorflow/python/framework/errors_impl.py\u001b[0m in \u001b[0;36mraise_exception_on_not_ok_status\u001b[0;34m()\u001b[0m\n\u001b[1;32m    465\u001b[0m           \u001b[0mcompat\u001b[0m\u001b[0;34m.\u001b[0m\u001b[0mas_text\u001b[0m\u001b[0;34m(\u001b[0m\u001b[0mpywrap_tensorflow\u001b[0m\u001b[0;34m.\u001b[0m\u001b[0mTF_Message\u001b[0m\u001b[0;34m(\u001b[0m\u001b[0mstatus\u001b[0m\u001b[0;34m)\u001b[0m\u001b[0;34m)\u001b[0m\u001b[0;34m,\u001b[0m\u001b[0;34m\u001b[0m\u001b[0m\n\u001b[0;32m--> 466\u001b[0;31m           pywrap_tensorflow.TF_GetCode(status))\n\u001b[0m\u001b[1;32m    467\u001b[0m   \u001b[0;32mfinally\u001b[0m\u001b[0;34m:\u001b[0m\u001b[0;34m\u001b[0m\u001b[0m\n",
      "\u001b[0;31mResourceExhaustedError\u001b[0m: OOM when allocating tensor of shape [1000,1000] and type double\n\t [[Node: Sqrt_3/_0__cf__3 = Const[dtype=DT_DOUBLE, value=Tensor<type: double shape: [1000,1000] values: [4447.30828704285 3650.7322553153635 5797.0512331701866]...>, _device=\"/job:localhost/replica:0/task:0/gpu:0\"]()]]",
      "\nDuring handling of the above exception, another exception occurred:\n",
      "\u001b[0;31mResourceExhaustedError\u001b[0m                    Traceback (most recent call last)",
      "\u001b[0;32m<ipython-input-15-7b5aca8f698b>\u001b[0m in \u001b[0;36m<module>\u001b[0;34m()\u001b[0m\n\u001b[1;32m      5\u001b[0m \u001b[0mX_val\u001b[0m\u001b[0;34m=\u001b[0m\u001b[0mdata\u001b[0m\u001b[0;34m[\u001b[0m\u001b[0;34m\"X_val\"\u001b[0m\u001b[0;34m]\u001b[0m\u001b[0;34m[\u001b[0m\u001b[0;36m9000\u001b[0m\u001b[0;34m:\u001b[0m\u001b[0;34m]\u001b[0m\u001b[0;34m\u001b[0m\u001b[0m\n\u001b[1;32m      6\u001b[0m \u001b[0my_val\u001b[0m\u001b[0;34m=\u001b[0m\u001b[0mdata\u001b[0m\u001b[0;34m[\u001b[0m\u001b[0;34m\"y_val\"\u001b[0m\u001b[0;34m]\u001b[0m\u001b[0;34m[\u001b[0m\u001b[0;36m9000\u001b[0m\u001b[0;34m:\u001b[0m\u001b[0;34m]\u001b[0m\u001b[0;34m\u001b[0m\u001b[0m\n\u001b[0;32m----> 7\u001b[0;31m \u001b[0mdictionary\u001b[0m\u001b[0;34m=\u001b[0m\u001b[0manalyze_distance\u001b[0m\u001b[0;34m(\u001b[0m\u001b[0mX_val\u001b[0m\u001b[0;34m,\u001b[0m\u001b[0mdata\u001b[0m\u001b[0;34m[\u001b[0m\u001b[0;34m\"X_train\"\u001b[0m\u001b[0;34m]\u001b[0m\u001b[0;34m)\u001b[0m\u001b[0;34m\u001b[0m\u001b[0m\n\u001b[0m\u001b[1;32m      8\u001b[0m \u001b[0mdists\u001b[0m\u001b[0;34m=\u001b[0m\u001b[0mdictionary\u001b[0m\u001b[0;34m[\u001b[0m\u001b[0;34m\"dist\"\u001b[0m\u001b[0;34m]\u001b[0m\u001b[0;34m\u001b[0m\u001b[0m\n\u001b[1;32m      9\u001b[0m \u001b[0margs\u001b[0m\u001b[0;34m=\u001b[0m\u001b[0mdictionary\u001b[0m\u001b[0;34m[\u001b[0m\u001b[0;34m\"args\"\u001b[0m\u001b[0;34m]\u001b[0m\u001b[0;34m\u001b[0m\u001b[0m\n",
      "\u001b[0;32m~/data/amirata_functions.py\u001b[0m in \u001b[0;36manalyze_distance\u001b[0;34m(X_val, X_train, reset_graph, sess, h, w, c)\u001b[0m\n\u001b[1;32m    125\u001b[0m         sess.run(tf_l2_distance\\\n\u001b[1;32m    126\u001b[0m                  (val_reshaped,tf.reshape\\\n\u001b[0;32m--> 127\u001b[0;31m                   (tf.constant(X_train[i*1000:(i+1)*1000]),[-1,w*h*c])))\n\u001b[0m\u001b[1;32m    128\u001b[0m     \u001b[0margs_train\u001b[0m \u001b[0;34m=\u001b[0m \u001b[0mnp\u001b[0m\u001b[0;34m.\u001b[0m\u001b[0margsort\u001b[0m\u001b[0;34m(\u001b[0m\u001b[0mdist_train\u001b[0m\u001b[0;34m,\u001b[0m\u001b[0;36m1\u001b[0m\u001b[0;34m)\u001b[0m\u001b[0;34m\u001b[0m\u001b[0m\n\u001b[1;32m    129\u001b[0m     \u001b[0msorted_train\u001b[0m \u001b[0;34m=\u001b[0m \u001b[0mnp\u001b[0m\u001b[0;34m.\u001b[0m\u001b[0msort\u001b[0m\u001b[0;34m(\u001b[0m\u001b[0mdist_train\u001b[0m\u001b[0;34m,\u001b[0m\u001b[0;36m1\u001b[0m\u001b[0;34m)\u001b[0m\u001b[0;34m\u001b[0m\u001b[0m\n",
      "\u001b[0;32m~/.env/lib/python3.5/site-packages/tensorflow/python/client/session.py\u001b[0m in \u001b[0;36mrun\u001b[0;34m(self, fetches, feed_dict, options, run_metadata)\u001b[0m\n\u001b[1;32m    787\u001b[0m     \u001b[0;32mtry\u001b[0m\u001b[0;34m:\u001b[0m\u001b[0;34m\u001b[0m\u001b[0m\n\u001b[1;32m    788\u001b[0m       result = self._run(None, fetches, feed_dict, options_ptr,\n\u001b[0;32m--> 789\u001b[0;31m                          run_metadata_ptr)\n\u001b[0m\u001b[1;32m    790\u001b[0m       \u001b[0;32mif\u001b[0m \u001b[0mrun_metadata\u001b[0m\u001b[0;34m:\u001b[0m\u001b[0;34m\u001b[0m\u001b[0m\n\u001b[1;32m    791\u001b[0m         \u001b[0mproto_data\u001b[0m \u001b[0;34m=\u001b[0m \u001b[0mtf_session\u001b[0m\u001b[0;34m.\u001b[0m\u001b[0mTF_GetBuffer\u001b[0m\u001b[0;34m(\u001b[0m\u001b[0mrun_metadata_ptr\u001b[0m\u001b[0;34m)\u001b[0m\u001b[0;34m\u001b[0m\u001b[0m\n",
      "\u001b[0;32m~/.env/lib/python3.5/site-packages/tensorflow/python/client/session.py\u001b[0m in \u001b[0;36m_run\u001b[0;34m(self, handle, fetches, feed_dict, options, run_metadata)\u001b[0m\n\u001b[1;32m    995\u001b[0m     \u001b[0;32mif\u001b[0m \u001b[0mfinal_fetches\u001b[0m \u001b[0;32mor\u001b[0m \u001b[0mfinal_targets\u001b[0m\u001b[0;34m:\u001b[0m\u001b[0;34m\u001b[0m\u001b[0m\n\u001b[1;32m    996\u001b[0m       results = self._do_run(handle, final_targets, final_fetches,\n\u001b[0;32m--> 997\u001b[0;31m                              feed_dict_string, options, run_metadata)\n\u001b[0m\u001b[1;32m    998\u001b[0m     \u001b[0;32melse\u001b[0m\u001b[0;34m:\u001b[0m\u001b[0;34m\u001b[0m\u001b[0m\n\u001b[1;32m    999\u001b[0m       \u001b[0mresults\u001b[0m \u001b[0;34m=\u001b[0m \u001b[0;34m[\u001b[0m\u001b[0;34m]\u001b[0m\u001b[0;34m\u001b[0m\u001b[0m\n",
      "\u001b[0;32m~/.env/lib/python3.5/site-packages/tensorflow/python/client/session.py\u001b[0m in \u001b[0;36m_do_run\u001b[0;34m(self, handle, target_list, fetch_list, feed_dict, options, run_metadata)\u001b[0m\n\u001b[1;32m   1130\u001b[0m     \u001b[0;32mif\u001b[0m \u001b[0mhandle\u001b[0m \u001b[0;32mis\u001b[0m \u001b[0;32mNone\u001b[0m\u001b[0;34m:\u001b[0m\u001b[0;34m\u001b[0m\u001b[0m\n\u001b[1;32m   1131\u001b[0m       return self._do_call(_run_fn, self._session, feed_dict, fetch_list,\n\u001b[0;32m-> 1132\u001b[0;31m                            target_list, options, run_metadata)\n\u001b[0m\u001b[1;32m   1133\u001b[0m     \u001b[0;32melse\u001b[0m\u001b[0;34m:\u001b[0m\u001b[0;34m\u001b[0m\u001b[0m\n\u001b[1;32m   1134\u001b[0m       return self._do_call(_prun_fn, self._session, handle, feed_dict,\n",
      "\u001b[0;32m~/.env/lib/python3.5/site-packages/tensorflow/python/client/session.py\u001b[0m in \u001b[0;36m_do_call\u001b[0;34m(self, fn, *args)\u001b[0m\n\u001b[1;32m   1150\u001b[0m         \u001b[0;32mexcept\u001b[0m \u001b[0mKeyError\u001b[0m\u001b[0;34m:\u001b[0m\u001b[0;34m\u001b[0m\u001b[0m\n\u001b[1;32m   1151\u001b[0m           \u001b[0;32mpass\u001b[0m\u001b[0;34m\u001b[0m\u001b[0m\n\u001b[0;32m-> 1152\u001b[0;31m       \u001b[0;32mraise\u001b[0m \u001b[0mtype\u001b[0m\u001b[0;34m(\u001b[0m\u001b[0me\u001b[0m\u001b[0;34m)\u001b[0m\u001b[0;34m(\u001b[0m\u001b[0mnode_def\u001b[0m\u001b[0;34m,\u001b[0m \u001b[0mop\u001b[0m\u001b[0;34m,\u001b[0m \u001b[0mmessage\u001b[0m\u001b[0;34m)\u001b[0m\u001b[0;34m\u001b[0m\u001b[0m\n\u001b[0m\u001b[1;32m   1153\u001b[0m \u001b[0;34m\u001b[0m\u001b[0m\n\u001b[1;32m   1154\u001b[0m   \u001b[0;32mdef\u001b[0m \u001b[0m_extend_graph\u001b[0m\u001b[0;34m(\u001b[0m\u001b[0mself\u001b[0m\u001b[0;34m)\u001b[0m\u001b[0;34m:\u001b[0m\u001b[0;34m\u001b[0m\u001b[0m\n",
      "\u001b[0;31mResourceExhaustedError\u001b[0m: OOM when allocating tensor of shape [1000,1000] and type double\n\t [[Node: Sqrt_3/_0__cf__3 = Const[dtype=DT_DOUBLE, value=Tensor<type: double shape: [1000,1000] values: [4447.30828704285 3650.7322553153635 5797.0512331701866]...>, _device=\"/job:localhost/replica:0/task:0/gpu:0\"]()]]"
     ]
    }
   ],
   "source": [
    "data,aux_data = get_CIFAR10_data(\"../datasets/cifar-10-batches-py\")\n",
    "mean_image=data[\"mean_image\"]\n",
    "data,aux_data = get_CIFAR10_data(\"../datasets/cifar-10-batches-py\")\n",
    "mean_image=data[\"mean_image\"]\n",
    "X_val=data[\"X_val\"][9000:]\n",
    "y_val=data[\"y_val\"][9000:]\n",
    "dictionary=analyze_distance(X_val,data[\"X_train\"])\n",
    "dists=dictionary[\"dist\"]\n",
    "args=dictionary[\"args\"]\n",
    "tf.reset_default_graph()\n",
    "training_data = (data[\"X_train\"],data[\"y_train\"])\n",
    "validation_data1 = (aux_data[\"X_val1\"][1:100],aux_data[\"y_val1\"][1:100])\n",
    "network3 = CNN_SC(network_name=\"network3\", num_conv_layers=3,\n",
    "                  num_forward_layers=1,input_shape=[32,32,3], \n",
    "                  reg = 1e-2,num_classes=10, kernel_sizes=[5,5,5],\n",
    "                  hidden_sizes=[1024], pool_sizes=[2,2,2], \n",
    "                  padding = \"same\", path =\"saved_networks/1C_3L_F\",\n",
    "                  dims=[64,128,256], learning_rate = 1e-3, \n",
    "                  batch_norm = True, dropout = 1)\n",
    "network3.optimize(training_data, validation_data1, epochs=0,\n",
    "                  load = True, save = True, verbose=True)"
   ]
  },
  {
   "cell_type": "code",
   "execution_count": null,
   "metadata": {
    "collapsed": true
   },
   "outputs": [],
   "source": [
    "epsilon=2\n",
    "for i in range(1):\n",
    "    print(i)\n",
    "    output=network3.adversary(X_val[i],mean_image,epsilon,\n",
    "                                         y_val[i],max_iter=30,\n",
    "                                         sess=sess,verbose=False,alpha=1,\n",
    "                                         mode=\"sign\")\n",
    "    if not output==None:\n",
    "        "
   ]
  },
  {
   "cell_type": "code",
   "execution_count": 3,
   "metadata": {},
   "outputs": [
    {
     "data": {
      "text/plain": [
       "{'f': array([ 223.,   75.,   26.,   20.,   14.,   10.,    7.,    9.,    5.,    5.]),\n",
       " 'number_adversary_found': 430,\n",
       " 'number_assumption_true': 394,\n",
       " 'number_correct_predicted': 780}"
      ]
     },
     "execution_count": 3,
     "metadata": {},
     "output_type": "execute_result"
    }
   ],
   "source": [
    "with open(\"dics/around_adversaries.pkl\",'rb') as input:\n",
    "    dic=pickle.load(input)\n",
    "dic"
   ]
  },
  {
   "cell_type": "code",
   "execution_count": 11,
   "metadata": {},
   "outputs": [
    {
     "data": {
      "text/plain": [
       "dict_keys(['90', '100', '120', '1layer', '80', '60', '110', '70', '2layer', '3layer'])"
      ]
     },
     "execution_count": 11,
     "metadata": {},
     "output_type": "execute_result"
    }
   ],
   "source": [
    "with open(\"dics/synthetic_data_intertwindness_adversary\",'rb') as input:\n",
    "    dic=pickle.load(input)\n",
    "dic.keys()"
   ]
  },
  {
   "cell_type": "code",
   "execution_count": 59,
   "metadata": {},
   "outputs": [
    {
     "data": {
      "text/plain": [
       "array([ 0.34358621,  0.31465149,  0.28603419,  0.26320106,  0.22975356,\n",
       "        0.20611199,  0.20103743,  0.        ,  0.        ,  0.        ,\n",
       "        0.        ,  0.        ,  0.        ,  0.        ,  0.        ,\n",
       "        0.        ,  0.        ,  0.        ,  0.        ,  0.        ])"
      ]
     },
     "execution_count": 59,
     "metadata": {},
     "output_type": "execute_result"
    }
   ],
   "source": [
    "np.mean(dic[\"1layer\"][0],1)"
   ]
  },
  {
   "cell_type": "code",
   "execution_count": 53,
   "metadata": {},
   "outputs": [
    {
     "name": "stdout",
     "output_type": "stream",
     "text": [
      "0 1\n",
      "0 2\n",
      "0 3\n",
      "1 1\n",
      "1 2\n",
      "1 3\n",
      "2 1\n",
      "2 2\n",
      "2 3\n",
      "3 1\n",
      "3 2\n",
      "3 3\n",
      "4 1\n",
      "4 2\n",
      "4 3\n",
      "5 1\n",
      "5 2\n",
      "5 3\n",
      "6 1\n",
      "6 2\n",
      "6 3\n"
     ]
    }
   ],
   "source": [
    "number=np.zeros((3,7))\n",
    "confidence=np.zeros((3,7))\n",
    "for i,sigma in enumerate([60,70,80,90,100,110,120]):\n",
    "    for j,layer in enumerate([1,2,3]):\n",
    "        number[j,i]=len(dic[\"{}layer\".format(layer)][1][i][1])*1./\\\n",
    "        dic[\"{}layer\".format(layer)][1][i][0]\n",
    "        confidence[j,i]=np.mean(dic[\"{}layer\".format(layer)][1][i][1])"
   ]
  },
  {
   "cell_type": "code",
   "execution_count": 27,
   "metadata": {},
   "outputs": [
    {
     "data": {
      "text/plain": [
       "array([ 0.34358621,  0.31465149,  0.28603419,  0.26320106,  0.22975356,\n",
       "        0.20611199,  0.20103743,  0.        ,  0.        ,  0.        ,\n",
       "        0.        ,  0.        ,  0.        ,  0.        ,  0.        ,\n",
       "        0.        ,  0.        ,  0.        ,  0.        ,  0.        ])"
      ]
     },
     "execution_count": 27,
     "metadata": {},
     "output_type": "execute_result"
    }
   ],
   "source": [
    "np.mean(dic[\"1layer\"][0],1)"
   ]
  },
  {
   "cell_type": "code",
   "execution_count": 61,
   "metadata": {},
   "outputs": [
    {
     "data": {
      "text/plain": [
       "([<matplotlib.axis.YTick at 0x7fb388bdf2e8>,\n",
       "  <matplotlib.axis.YTick at 0x7fb38c5729b0>,\n",
       "  <matplotlib.axis.YTick at 0x7fb388af5128>,\n",
       "  <matplotlib.axis.YTick at 0x7fb38acf8550>,\n",
       "  <matplotlib.axis.YTick at 0x7fb38ace7048>,\n",
       "  <matplotlib.axis.YTick at 0x7fb388aecc50>,\n",
       "  <matplotlib.axis.YTick at 0x7fb38ace7ac8>,\n",
       "  <matplotlib.axis.YTick at 0x7fb38acfd518>,\n",
       "  <matplotlib.axis.YTick at 0x7fb38acfdf28>,\n",
       "  <matplotlib.axis.YTick at 0x7fb388b31978>,\n",
       "  <matplotlib.axis.YTick at 0x7fb388b643c8>,\n",
       "  <matplotlib.axis.YTick at 0x7fb388b64dd8>,\n",
       "  <matplotlib.axis.YTick at 0x7fb388b5c828>,\n",
       "  <matplotlib.axis.YTick at 0x7fb388b46278>,\n",
       "  <matplotlib.axis.YTick at 0x7fb388b46be0>],\n",
       " <a list of 15 Text yticklabel objects>)"
      ]
     },
     "execution_count": 61,
     "metadata": {},
     "output_type": "execute_result"
    },
    {
     "data": {
      "image/png": "[encoded data removed]",
      "text/plain": [
       "<matplotlib.figure.Figure at 0x7fb38882c278>"
      ]
     },
     "metadata": {},
     "output_type": "display_data"
    }
   ],
   "source": [
    "%matplotlib inline\n",
    "plt.plot([60,70,80,90,100,110,120],100*(number[0]),\"o--\",\n",
    "       [60,70,80,90,100,110,120],100*(number[1]),\"s--\",\n",
    "        [60,70,80,90,100,110,120],100*(number[2]),\">--\")\n",
    "rcParams.update({'font.size': 15})\n",
    "rcParams['figure.figsize'] = 10, 10\n",
    "plt.legend([\"one layer CNN\",\"two layer CNN\",\"three layer CNN\"])\n",
    "plt.grid()\n",
    "\n",
    "plt.xlabel(\"$\\sigma$ (standard deviation of Gaussian clusters)\")\n",
    "plt.ylabel(\"% of correctly classified samples applying \\n FGSM on which resulted in adversary$\")\n",
    "plt.xticks([60,80,100,120,140])\n",
    "plt.yticks([0,10,20,30,40,50,60,70,80,90,100,110,120,130,140])"
   ]
  },
  {
   "cell_type": "code",
   "execution_count": 62,
   "metadata": {},
   "outputs": [
    {
     "data": {
      "text/plain": [
       "([<matplotlib.axis.YTick at 0x7fb3888576a0>,\n",
       "  <matplotlib.axis.YTick at 0x7fb38885f240>,\n",
       "  <matplotlib.axis.YTick at 0x7fb3887ae9e8>,\n",
       "  <matplotlib.axis.YTick at 0x7fb3887b20f0>,\n",
       "  <matplotlib.axis.YTick at 0x7fb3887b2a58>,\n",
       "  <matplotlib.axis.YTick at 0x7fb3887a9940>,\n",
       "  <matplotlib.axis.YTick at 0x7fb3887b7518>,\n",
       "  <matplotlib.axis.YTick at 0x7fb3887b7f28>,\n",
       "  <matplotlib.axis.YTick at 0x7fb3887bc978>,\n",
       "  <matplotlib.axis.YTick at 0x7fb3887c03c8>,\n",
       "  <matplotlib.axis.YTick at 0x7fb3887c0dd8>,\n",
       "  <matplotlib.axis.YTick at 0x7fb3887c4828>,\n",
       "  <matplotlib.axis.YTick at 0x7fb3887ca278>,\n",
       "  <matplotlib.axis.YTick at 0x7fb3887cac88>,\n",
       "  <matplotlib.axis.YTick at 0x7fb3887ce6d8>],\n",
       " <a list of 15 Text yticklabel objects>)"
      ]
     },
     "execution_count": 62,
     "metadata": {},
     "output_type": "execute_result"
    },
    {
     "data": {
      "image/png": "[encoded data removed]",
      "text/plain": [
       "<matplotlib.figure.Figure at 0x7fb38ad232b0>"
      ]
     },
     "metadata": {},
     "output_type": "display_data"
    }
   ],
   "source": [
    "%matplotlib inline\n",
    "plt.plot([60,70,80,90,100,110,120],100*(confidence[0]),\"o--\",\n",
    "       [60,70,80,90,100,110,120],100*(confidence[1]),\"s--\",\n",
    "        [60,70,80,90,100,110,120],100*(confidence[2]),\">--\")\n",
    "rcParams.update({'font.size': 15})\n",
    "rcParams['figure.figsize'] = 10, 10\n",
    "plt.legend([\"one layer CNN\",\"two layer CNN\",\"three layer CNN\"])\n",
    "plt.grid()\n",
    "\n",
    "plt.xlabel(\"$\\sigma$ (standard deviation of Gaussian clusters)\")\n",
    "plt.ylabel(\"Average confidence of adversary class using FSGM$\")\n",
    "plt.xticks([60,80,100,120,140])\n",
    "plt.yticks([0,10,20,30,40,50,60,70,80,90,100,110,120,130,140])"
   ]
  },
  {
   "cell_type": "code",
   "execution_count": 72,
   "metadata": {},
   "outputs": [
    {
     "data": {
      "text/plain": [
       "array([ 0.14941534,  0.21313941,  0.22573073,  0.20205687,  0.20317146,\n",
       "        0.16905223,  0.16097482])"
      ]
     },
     "execution_count": 72,
     "metadata": {},
     "output_type": "execute_result"
    }
   ],
   "source": [
    "np.mean(dic[\"3layer\"][0][:7],1)"
   ]
  },
  {
   "cell_type": "code",
   "execution_count": 75,
   "metadata": {},
   "outputs": [
    {
     "data": {
      "text/plain": [
       "([<matplotlib.axis.XTick at 0x7fb3887d36d8>,\n",
       "  <matplotlib.axis.XTick at 0x7fb3886c7160>,\n",
       "  <matplotlib.axis.XTick at 0x7fb388759fd0>,\n",
       "  <matplotlib.axis.XTick at 0x7fb3889daf98>,\n",
       "  <matplotlib.axis.XTick at 0x7fb388b5fbe0>],\n",
       " <a list of 5 Text xticklabel objects>)"
      ]
     },
     "execution_count": 75,
     "metadata": {},
     "output_type": "execute_result"
    },
    {
     "data": {
      "image/png": "[encoded data removed]",
      "text/plain": [
       "<matplotlib.figure.Figure at 0x7fb38874b2b0>"
      ]
     },
     "metadata": {},
     "output_type": "display_data"
    }
   ],
   "source": [
    "%matplotlib inline\n",
    "plt.plot([60,70,80,90,100,110,120],np.mean(dic[\"1layer\"][0][:7],1),\"o--\",\n",
    "       [60,70,80,90,100,110,120],np.mean(dic[\"2layer\"][0][:7],1),\"s--\",\n",
    "        [60,70,80,90,100,110,120],np.mean(dic[\"3layer\"][0][:7],1),\">--\")\n",
    "rcParams.update({'font.size': 15})\n",
    "rcParams['figure.figsize'] = 10, 10\n",
    "plt.legend([\"one layer CNN\",\"two layer CNN\",\"three layer CNN\"])\n",
    "plt.grid()\n",
    "\n",
    "plt.xlabel(\"$\\sigma$ (standard deviation of Gaussian clusters)\")\n",
    "plt.ylabel(\"Average confidence of adversary class using FSGM$\")\n",
    "plt.xticks([60,80,100,120,140])"
   ]
  },
  {
   "cell_type": "code",
   "execution_count": 6,
   "metadata": {},
   "outputs": [
    {
     "ename": "KeyboardInterrupt",
     "evalue": "",
     "output_type": "error",
     "traceback": [
      "\u001b[0;31m---------------------------------------------------------------------------\u001b[0m",
      "\u001b[0;31mKeyboardInterrupt\u001b[0m                         Traceback (most recent call last)",
      "\u001b[0;32m<ipython-input-6-f9acae128cc1>\u001b[0m in \u001b[0;36m<module>\u001b[0;34m()\u001b[0m\n\u001b[1;32m     10\u001b[0m                   learning_rate = 5e-4, batch_norm = True, dropout = 1)\n\u001b[1;32m     11\u001b[0m network1.optimize(training_data, validation_data1, epochs=0,\n\u001b[0;32m---> 12\u001b[0;31m                   load = True, save = True, verbose=True)\n\u001b[0m\u001b[1;32m     13\u001b[0m \u001b[0msess0\u001b[0m \u001b[0;34m=\u001b[0m \u001b[0mget_session\u001b[0m\u001b[0;34m(\u001b[0m\u001b[0;34m)\u001b[0m\u001b[0;34m\u001b[0m\u001b[0m\n\u001b[1;32m     14\u001b[0m \u001b[0msaver\u001b[0m\u001b[0;34m=\u001b[0m\u001b[0mtf\u001b[0m\u001b[0;34m.\u001b[0m\u001b[0mtrain\u001b[0m\u001b[0;34m.\u001b[0m\u001b[0mSaver\u001b[0m\u001b[0;34m(\u001b[0m\u001b[0;34m)\u001b[0m\u001b[0;34m\u001b[0m\u001b[0m\n",
      "\u001b[0;32m~/data/CNN_class.py\u001b[0m in \u001b[0;36moptimize\u001b[0;34m(self, training_data, validation_data, save, load, reg, epochs, batch_size, tradeoff, verbose, save_always)\u001b[0m\n\u001b[1;32m    629\u001b[0m                  tradeoff=False, verbose=True, save_always=False):\n\u001b[1;32m    630\u001b[0m         \u001b[0mX_batches\u001b[0m\u001b[0;34m,\u001b[0m \u001b[0mY_batches\u001b[0m\u001b[0;34m,\u001b[0m \u001b[0mX_val\u001b[0m\u001b[0;34m,\u001b[0m \u001b[0mY_val\u001b[0m \u001b[0;34m=\u001b[0m\u001b[0;31m \u001b[0m\u001b[0;31m\\\u001b[0m\u001b[0;34m\u001b[0m\u001b[0m\n\u001b[0;32m--> 631\u001b[0;31m         \u001b[0mself\u001b[0m\u001b[0;34m.\u001b[0m\u001b[0mget_batches\u001b[0m\u001b[0;34m(\u001b[0m\u001b[0mtraining_data\u001b[0m\u001b[0;34m,\u001b[0m \u001b[0mbatch_size\u001b[0m\u001b[0;34m,\u001b[0m \u001b[0mvalidation_data\u001b[0m\u001b[0;34m)\u001b[0m\u001b[0;34m\u001b[0m\u001b[0m\n\u001b[0m\u001b[1;32m    632\u001b[0m         \u001b[0mX_train\u001b[0m \u001b[0;34m=\u001b[0m \u001b[0mtraining_data\u001b[0m\u001b[0;34m[\u001b[0m\u001b[0;36m0\u001b[0m\u001b[0;34m]\u001b[0m\u001b[0;34m\u001b[0m\u001b[0m\n\u001b[1;32m    633\u001b[0m         \u001b[0mY_train\u001b[0m \u001b[0;34m=\u001b[0m \u001b[0mtraining_data\u001b[0m\u001b[0;34m[\u001b[0m\u001b[0;36m1\u001b[0m\u001b[0;34m]\u001b[0m\u001b[0;34m\u001b[0m\u001b[0m\n",
      "\u001b[0;32m~/data/CNN_class.py\u001b[0m in \u001b[0;36mget_batches\u001b[0;34m(self, training_data, batch_size, validation_data)\u001b[0m\n\u001b[1;32m    557\u001b[0m         \u001b[0mYs\u001b[0m \u001b[0;34m=\u001b[0m \u001b[0mtraining_data\u001b[0m\u001b[0;34m[\u001b[0m\u001b[0;36m1\u001b[0m\u001b[0;34m]\u001b[0m\u001b[0;34m\u001b[0m\u001b[0m\n\u001b[1;32m    558\u001b[0m         \u001b[0mmask\u001b[0m \u001b[0;34m=\u001b[0m \u001b[0mnp\u001b[0m\u001b[0;34m.\u001b[0m\u001b[0mrandom\u001b[0m\u001b[0;34m.\u001b[0m\u001b[0mpermutation\u001b[0m\u001b[0;34m(\u001b[0m\u001b[0mlen\u001b[0m\u001b[0;34m(\u001b[0m\u001b[0mYs\u001b[0m\u001b[0;34m)\u001b[0m\u001b[0;34m)\u001b[0m\u001b[0;34m\u001b[0m\u001b[0m\n\u001b[0;32m--> 559\u001b[0;31m         \u001b[0mXs\u001b[0m \u001b[0;34m=\u001b[0m \u001b[0mXs\u001b[0m\u001b[0;34m[\u001b[0m\u001b[0mmask\u001b[0m\u001b[0;34m]\u001b[0m\u001b[0;34m\u001b[0m\u001b[0m\n\u001b[0m\u001b[1;32m    560\u001b[0m         \u001b[0mYs\u001b[0m \u001b[0;34m=\u001b[0m \u001b[0mYs\u001b[0m\u001b[0;34m[\u001b[0m\u001b[0mmask\u001b[0m\u001b[0;34m]\u001b[0m\u001b[0;34m\u001b[0m\u001b[0m\n\u001b[1;32m    561\u001b[0m         X_batches = [Xs[k:k + batch_size] for k in range(0, len(Xs)\\\n",
      "\u001b[0;31mKeyboardInterrupt\u001b[0m: "
     ]
    }
   ],
   "source": [
    "training_data = (data[\"X_train\"],data[\"y_train\"])\n",
    "validation_data1 = (aux_data[\"X_val1\"],aux_data[\"y_val1\"])\n",
    "tf.reset_default_graph()\n",
    "best_val=0\n",
    "network1 = CNN_SC(network_name=\"network1\", num_conv_layers=1, \n",
    "                   num_forward_layers=1,input_shape=[32,32,3], \\\n",
    "                  reg = 1e-6,num_classes=10, kernel_sizes=[5], \\\n",
    "                  hidden_sizes=[1024], pool_sizes=[8], padding = \"same\",\\\n",
    "                  path ='saved_networks/1C_1L_F', dims=[64], \n",
    "                  learning_rate = 5e-4, batch_norm = True, dropout = 1)\n",
    "network1.optimize(training_data, validation_data1, epochs=0,\n",
    "                  load = True, save = True, verbose=True)\n",
    "sess0 = get_session()\n",
    "saver=tf.train.Saver()\n",
    "saver.restore(sess0,network1.path)\n",
    "print((np.sum(np.argmax(network1.feedforward(aux_data[\"X_val2\"],sess0),1)\\\n",
    "                ==aux_data[\"y_val2\"]))*1./len(aux_data[\"y_val2\"]))"
   ]
  },
  {
   "cell_type": "code",
   "execution_count": null,
   "metadata": {
    "collapsed": true
   },
   "outputs": [],
   "source": [
    "tf.reset_default_graph()\n",
    "training_data = (data[\"X_train\"],data[\"y_train\"])\n",
    "validation_data1 = (aux_data[\"X_val1\"],aux_data[\"y_val1\"])\n",
    "clustering = False\n",
    "training_data = (data[\"X_train\"],data[\"y_train\"])\n",
    "validation_data1 = (aux_data[\"X_val1\"],aux_data[\"y_val1\"])\n",
    "best_val=0\n",
    "network2 = CNN_SC(centers = np.random.random((10,1024)),\\\n",
    "                  new_loss=0, network_name=\"network2\", num_conv_layers=2, \n",
    "                   num_forward_layers=1,input_shape=[32,32,3], \\\n",
    "                  reg = 1e-4,num_classes=10, kernel_sizes=[5,5], \\\n",
    "                  hidden_sizes=[1024], pool_sizes=[2,2], padding = \"same\",\\\n",
    "                  path ='saved_networks/1C_2L_F', dims=[64,18], \n",
    "                  learning_rate = 5e-4, batch_norm = True, dropout = 1)\n",
    "network2.optimize(clustering, training_data, validation_data1, epochs=1,\n",
    "                  load = True, save = True, verbose=True)\n",
    "sess0 = get_session()\n",
    "saver=tf.train.Saver()\n",
    "saver.restore(sess0,network2.path)\n",
    "print((np.sum(np.argmax(network2.feedforward(aux_data[\"X_val2\"],sess0),1)\\\n",
    "                ==aux_data[\"y_val2\"]))*1./len(aux_data[\"y_val2\"]))\n",
    "                "
   ]
  },
  {
   "cell_type": "code",
   "execution_count": 11,
   "metadata": {},
   "outputs": [
    {
     "name": "stdout",
     "output_type": "stream",
     "text": [
      "Loading model from :saved_networks/1C_3L_F\n",
      "INFO:tensorflow:Restoring parameters from saved_networks/1C_3L_F\n",
      "validation accuracy before starting 0.79798\n",
      "Best val accuracy: 0.79798\n",
      "INFO:tensorflow:Restoring parameters from saved_networks/1C_3L_F\n"
     ]
    }
   ],
   "source": [
    "tf.reset_default_graph()\n",
    "training_data = (data[\"X_train\"],data[\"y_train\"])\n",
    "validation_data1 = (aux_data[\"X_val1\"][1:100],aux_data[\"y_val1\"][1:100])\n",
    "network3 = CNN_SC(network_name=\"network3\", num_conv_layers=3,\n",
    "                  num_forward_layers=1,input_shape=[32,32,3], \n",
    "                  reg = 1e-2,num_classes=10, kernel_sizes=[5,5,5],\n",
    "                  hidden_sizes=[1024], pool_sizes=[2,2,2], \n",
    "                  padding = \"same\", path =\"saved_networks/1C_3L_F\",\n",
    "                  dims=[64,128,256], learning_rate = 1e-3, \n",
    "                  batch_norm = True, dropout = 1)\n",
    "network3.optimize(training_data, validation_data1, epochs=0,\n",
    "                  load = True, save = True, verbose=True)\n",
    "sess0 = get_session()\n",
    "saver=tf.train.Saver()\n",
    "# saver.restore(sess0,network3.path)\n",
    "# print((np.sum(np.argmax(network3.feedforward(aux_data[\"X_val2\"],sess0),1)\\\n",
    "#                 ==aux_data[\"y_val2\"]))*1./len(aux_data[\"y_val2\"]))"
   ]
  },
  {
   "cell_type": "code",
   "execution_count": 9,
   "metadata": {
    "collapsed": true
   },
   "outputs": [],
   "source": [
    "X_val=data[\"X_val\"][9000:]\n",
    "y_val=data[\"y_val\"][9000:]\n",
    "dictionary=analyze_distance(X_val,data[\"X_train\"])\n",
    "dists=dictionary[\"dist\"]\n",
    "args=dictionary[\"args\"]"
   ]
  },
  {
   "cell_type": "code",
   "execution_count": null,
   "metadata": {},
   "outputs": [
    {
     "name": "stdout",
     "output_type": "stream",
     "text": [
      "INFO:tensorflow:Restoring parameters from saved_networks/1C_3L_F\n",
      "0\n",
      "1\n",
      "2\n",
      "3\n",
      "4\n",
      "5\n",
      "6\n",
      "7\n",
      "8\n",
      "24\n",
      "25\n",
      "26\n",
      "27\n",
      "28\n",
      "29\n",
      "30\n",
      "31\n",
      "32\n",
      "33\n",
      "34\n",
      "35\n",
      "36\n",
      "37\n",
      "38\n",
      "39\n",
      "40\n",
      "41\n",
      "42\n",
      "43\n",
      "44\n",
      "45\n",
      "46\n",
      "47\n",
      "48\n",
      "49\n",
      "50\n",
      "51\n",
      "52\n",
      "53\n",
      "54\n"
     ]
    }
   ],
   "source": [
    "number_correct_predicted=0\n",
    "number_adversary_found=0\n",
    "number_assumption_true=0\n",
    "sess=get_session()\n",
    "f=np.zeros(5)\n",
    "tf.train.Saver().restore(sess,network3.path)\n",
    "epsilon=2\n",
    "for i in range(1000):\n",
    "    print(i)\n",
    "    output=network3.adversary(X_val[i],mean_image,epsilon,\n",
    "                                     y_val[i],max_iter=30,\n",
    "                                     sess=sess,verbose=False,alpha=1,\n",
    "                                     mode=\"sign\")\n",
    "    if not output==None:\n",
    "        adv,changed_label,confidence=output\n",
    "        number_correct_predicted+=1\n",
    "        if changed_label:\n",
    "            number_adversary_found+=1\n",
    "            true_label=y_val[i]\n",
    "            new_label=np.argmax(network3.feedforward(adv,sess),1)\n",
    "            places=np.where(data[\"y_train\"][args[i]]==new_label)[0]\n",
    "            for number,place_arg in enumerate(places[:5]):\n",
    "                found=True\n",
    "                for j in np.linspace(0,1,100):\n",
    "                    point=(1-j)*adv+(j)*data[\"X_train\"][args[i,place_arg]]\n",
    "                    point_label=np.argmax(network3.feedforward(point,sess),1)\n",
    "#                     print(i,place_arg,j,point_label)\n",
    "                    if point_label!=new_label:\n",
    "                        found=False\n",
    "                        break\n",
    "                if found:\n",
    "                    number_assumption_true+=1\n",
    "                    f[number]+=1\n",
    "                    break"
   ]
  },
  {
   "cell_type": "code",
   "execution_count": 139,
   "metadata": {},
   "outputs": [
    {
     "data": {
      "text/plain": [
       "5"
      ]
     },
     "execution_count": 139,
     "metadata": {},
     "output_type": "execute_result"
    }
   ],
   "source": [
    "number_adversary_found"
   ]
  },
  {
   "cell_type": "code",
   "execution_count": 124,
   "metadata": {},
   "outputs": [
    {
     "data": {
      "text/plain": [
       "1"
      ]
     },
     "execution_count": 124,
     "metadata": {},
     "output_type": "execute_result"
    }
   ],
   "source": [
    "data[\"y_train\"][places[3]]"
   ]
  },
  {
   "cell_type": "code",
   "execution_count": 465,
   "metadata": {},
   "outputs": [
    {
     "name": "stdout",
     "output_type": "stream",
     "text": [
      "INFO:tensorflow:Restoring parameters from saved_networks/1C_3L_F\n"
     ]
    }
   ],
   "source": [
    "sess=get_session()\n",
    "saver=tf.train.Saver()\n",
    "saver.restore(sess,network3.path)\n",
    "adv_neighb=np.zeros((100,10))\n",
    "adv_image=np.zeros((100,10))\n",
    "image_neighb=np.zeros((100,10))\n",
    "for i in (range(100)):\n",
    "    alpha=i*1./100\n",
    "    adv_neighb[i]=network3.feedforward\\\n",
    "    ((1-alpha)*adv+(alpha)*neighb,sess)\n",
    "    adv_image[i]=network3.feedforward\\\n",
    "    ((1-alpha)*adv+(alpha)*images,sess)\n",
    "    image_neighb[i]=network3.feedforward\\\n",
    "    ((1-alpha)*images+(alpha)*neighb,sess)\n"
   ]
  },
  {
   "cell_type": "code",
   "execution_count": 472,
   "metadata": {
    "collapsed": true
   },
   "outputs": [],
   "source": [
    "dash=np.zeros((1000,10))\n",
    "for i in range(1000):\n",
    "    a1=np.random.uniform(1)\n",
    "    a2=np.random.uniform(0,a1,1)\n",
    "    point = a1*adv+a2*neighb1+(1-a1-a2)*neighb2\n",
    "    dash[i]=network3.feedforward(point,sess)\n",
    "    "
   ]
  },
  {
   "cell_type": "code",
   "execution_count": 476,
   "metadata": {},
   "outputs": [
    {
     "data": {
      "image/png": "[encoded data removed]",
      "text/plain": [
       "<matplotlib.figure.Figure at 0x7f1edf813a90>"
      ]
     },
     "metadata": {},
     "output_type": "display_data"
    }
   ],
   "source": [
    "from pylab import rcParams\n",
    "rcParams['figure.figsize'] = 5, 5\n",
    "rcParams.update({'font.size':12})\n",
    "plt.plot(np.linspace(0,1600,100),image_neighb[:,4],\n",
    "         np.linspace(0,1600,100),image_neighb[:,2],linewidth=6)\n",
    "# plt.plot(kun,linewidth=6)\n",
    "plt.legend([\"Neighbor class score\",\"True Class Score\"])\n",
    "plt.ylabel(\"Softmax Score\")\n",
    "plt.xlabel(\"$\\ell_2$ distance from original image\")\n",
    "# plt.xlabel(\"r(fixed radius in original space)\")\n",
    "plt.ylabel(\"% of the training samples in the same class\")\n",
    "plt.yticks([0,0.1,0.2,0.3,0.4,0.5,0.6,0.7,0.8,0.9])\n",
    "plt.xticks(np.linspace(0,1600,9))\n",
    "plt.grid()"
   ]
  },
  {
   "cell_type": "code",
   "execution_count": 435,
   "metadata": {
    "collapsed": true
   },
   "outputs": [],
   "source": [
    "gooz=[]\n",
    "kun=[]\n",
    "rs=[]\n",
    "for i in range(20):\n",
    "    r = (i+15)*100\n",
    "    rs.append(r)\n",
    "    gooz.append(np.sum(data[\"y_train\"]\\\n",
    "                        [args_image[:(i+1)]]==2)*1./(i+1))\n",
    "    kun.append(np.sum((data[\"y_train\"][args_image]==2) *\\\n",
    "                       np.less(sorted_image,r))*\\\n",
    "                1./np.sum(np.less(sorted_image,r)))\n",
    "    "
   ]
  },
  {
   "cell_type": "code",
   "execution_count": 386,
   "metadata": {},
   "outputs": [
    {
     "ename": "ValueError",
     "evalue": "The truth value of an array with more than one element is ambiguous. Use a.any() or a.all()",
     "output_type": "error",
     "traceback": [
      "\u001b[0;31m---------------------------------------------------------------------------\u001b[0m",
      "\u001b[0;31mValueError\u001b[0m                                Traceback (most recent call last)",
      "\u001b[0;32m<ipython-input-386-accfc38e3497>\u001b[0m in \u001b[0;36m<module>\u001b[0;34m()\u001b[0m\n\u001b[0;32m----> 1\u001b[0;31m np.sum(data[\"y_train\"][args_image]==2 and\n\u001b[0m\u001b[1;32m      2\u001b[0m                       np.less(sorted_image,r))\n",
      "\u001b[0;31mValueError\u001b[0m: The truth value of an array with more than one element is ambiguous. Use a.any() or a.all()"
     ]
    }
   ],
   "source": [
    "np.sum(data[\"y_train\"][args_image]==2 *\\\n",
    "                      np.less(sorted_image,r))"
   ]
  },
  {
   "cell_type": "code",
   "execution_count": 475,
   "metadata": {},
   "outputs": [
    {
     "data": {
      "text/plain": [
       "412"
      ]
     },
     "execution_count": 475,
     "metadata": {},
     "output_type": "execute_result"
    }
   ],
   "source": [
    "np.sum(np.argmax(dash,1)==2)"
   ]
  },
  {
   "cell_type": "code",
   "execution_count": 405,
   "metadata": {},
   "outputs": [
    {
     "data": {
      "text/plain": [
       "array([ True,  True, False, ..., False, False, False], dtype=bool)"
      ]
     },
     "execution_count": 405,
     "metadata": {},
     "output_type": "execute_result"
    }
   ],
   "source": [
    "(data[\"y_train\"][args_image]==2) * np.less(sorted_image,r)"
   ]
  },
  {
   "cell_type": "code",
   "execution_count": 444,
   "metadata": {},
   "outputs": [
    {
     "data": {
      "text/plain": [
       "4"
      ]
     },
     "execution_count": 444,
     "metadata": {},
     "output_type": "execute_result"
    }
   ],
   "source": [
    "data[\"y_train\"][args_image[13]]"
   ]
  },
  {
   "cell_type": "code",
   "execution_count": 445,
   "metadata": {},
   "outputs": [
    {
     "data": {
      "text/plain": [
       "19161"
      ]
     },
     "execution_count": 445,
     "metadata": {},
     "output_type": "execute_result"
    }
   ],
   "source": [
    "args_image[13]"
   ]
  },
  {
   "cell_type": "code",
   "execution_count": 446,
   "metadata": {},
   "outputs": [
    {
     "data": {
      "text/plain": [
       "19161"
      ]
     },
     "execution_count": 446,
     "metadata": {},
     "output_type": "execute_result"
    }
   ],
   "source": [
    "args_adv[13]"
   ]
  },
  {
   "cell_type": "code",
   "execution_count": 455,
   "metadata": {},
   "outputs": [
    {
     "data": {
      "text/plain": [
       "1539.4969957749188"
      ]
     },
     "execution_count": 455,
     "metadata": {},
     "output_type": "execute_result"
    }
   ],
   "source": [
    "np.linalg.norm(data[\"X_train\"][19161]-data[\"X_train\"][5633])"
   ]
  },
  {
   "cell_type": "code",
   "execution_count": null,
   "metadata": {
    "collapsed": true
   },
   "outputs": [],
   "source": []
  }
 ],
 "metadata": {
  "kernelspec": {
   "display_name": "Python 3",
   "language": "python",
   "name": "python3"
  },
  "language_info": {
   "codemirror_mode": {
    "name": "ipython",
    "version": 3
   },
   "file_extension": ".py",
   "mimetype": "text/x-python",
   "name": "python",
   "nbconvert_exporter": "python",
   "pygments_lexer": "ipython3",
   "version": "3.5.2"
  }
 },
 "nbformat": 4,
 "nbformat_minor": 2
}
